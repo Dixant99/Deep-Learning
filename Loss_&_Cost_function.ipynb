{
  "nbformat": 4,
  "nbformat_minor": 0,
  "metadata": {
    "colab": {
      "name": "Loss & Coct function.ipynb",
      "provenance": []
    },
    "kernelspec": {
      "name": "python3",
      "display_name": "Python 3"
    },
    "language_info": {
      "name": "python"
    }
  },
  "cells": [
    {
      "cell_type": "code",
      "execution_count": 1,
      "metadata": {
        "id": "Uzco58Z-67IP"
      },
      "outputs": [],
      "source": [
        "import numpy as np"
      ]
    },
    {
      "cell_type": "code",
      "source": [
        "ytrue=np.array([0.70,0,1,0.30,0.5])\n",
        "ypred=np.array([1,0,0,1,1])"
      ],
      "metadata": {
        "id": "F7G5GsGD7Ci3"
      },
      "execution_count": 2,
      "outputs": []
    },
    {
      "cell_type": "code",
      "source": [
        "def mean_absolute_error(ytrue,ypred):\n",
        "  err=0\n",
        "  for yt,yp in zip(ytrue,ypred):\n",
        "    err+=abs(yt-yp)\n",
        "  print(\"total error\",err)\n",
        "  mae=err/len(ytrue)\n",
        "  return mae\n",
        "\n",
        "me=mean_absolute_error(ytrue,ypred)\n",
        "print('Mean absolute error is',me)"
      ],
      "metadata": {
        "colab": {
          "base_uri": "https://localhost:8080/"
        },
        "id": "UZvhbQLt7hQ9",
        "outputId": "f89162a5-04c6-4e7b-f397-2d471c990cd8"
      },
      "execution_count": 3,
      "outputs": [
        {
          "output_type": "stream",
          "name": "stdout",
          "text": [
            "total error 2.5\n",
            "Mean absolute error is 0.5\n"
          ]
        }
      ]
    },
    {
      "cell_type": "code",
      "source": [
        "def mean_root_square_error(ytrue,ypred):\n",
        "  err=0\n",
        "  for yt,yp in zip(ytrue,ypred):\n",
        "    err+=(yt-yp)**2\n",
        "  print(\"square error:\",err)\n",
        "  mrse=(err/len(ytrue))**(1/2)\n",
        "  return mrse\n",
        "\n",
        "\n",
        "\n",
        "ms=mean_root_square_error(ytrue,ypred)\n",
        "\n",
        "print('Mean root square error is',ms)"
      ],
      "metadata": {
        "colab": {
          "base_uri": "https://localhost:8080/"
        },
        "id": "Ij7il8v99zez",
        "outputId": "d84ef850-78ce-4370-c93b-bb69d488beb3"
      },
      "execution_count": 4,
      "outputs": [
        {
          "output_type": "stream",
          "name": "stdout",
          "text": [
            "square error: 1.83\n",
            "Mean root square error is 0.6049793384901669\n"
          ]
        }
      ]
    },
    {
      "cell_type": "code",
      "source": [
        "np.log(1)"
      ],
      "metadata": {
        "colab": {
          "base_uri": "https://localhost:8080/"
        },
        "id": "BTu79Caz_Dqh",
        "outputId": "ee3499de-ab9d-4caf-c70f-1cab5db41ba1"
      },
      "execution_count": 5,
      "outputs": [
        {
          "output_type": "execute_result",
          "data": {
            "text/plain": [
              "0.0"
            ]
          },
          "metadata": {},
          "execution_count": 5
        }
      ]
    },
    {
      "cell_type": "code",
      "source": [
        "ep=1e-15"
      ],
      "metadata": {
        "id": "fosJePofFYZr"
      },
      "execution_count": 6,
      "outputs": []
    },
    {
      "cell_type": "code",
      "source": [
        "ypred"
      ],
      "metadata": {
        "colab": {
          "base_uri": "https://localhost:8080/"
        },
        "id": "uMmfYQ-SGM1M",
        "outputId": "11e6c745-22de-4b7f-9bb0-2ab2d6f86834"
      },
      "execution_count": 7,
      "outputs": [
        {
          "output_type": "execute_result",
          "data": {
            "text/plain": [
              "array([1, 0, 0, 1, 1])"
            ]
          },
          "metadata": {},
          "execution_count": 7
        }
      ]
    },
    {
      "cell_type": "code",
      "source": [
        "ypred_new=[max(i,ep) for i in ypred]\n",
        "ypred_new"
      ],
      "metadata": {
        "colab": {
          "base_uri": "https://localhost:8080/"
        },
        "id": "w6imYQ8kGUi7",
        "outputId": "ea1eb465-ebe6-45fc-b981-922bdd8b3e18"
      },
      "execution_count": 8,
      "outputs": [
        {
          "output_type": "execute_result",
          "data": {
            "text/plain": [
              "[1, 1e-15, 1e-15, 1, 1]"
            ]
          },
          "metadata": {},
          "execution_count": 8
        }
      ]
    },
    {
      "cell_type": "code",
      "source": [
        "ypred_new=[min(i,1-ep) for i in ypred_new]\n",
        "ypred_new"
      ],
      "metadata": {
        "colab": {
          "base_uri": "https://localhost:8080/"
        },
        "id": "vN2B5K4vGkTn",
        "outputId": "1b618dee-41fb-433f-943d-28277a11a022"
      },
      "execution_count": 9,
      "outputs": [
        {
          "output_type": "execute_result",
          "data": {
            "text/plain": [
              "[0.999999999999999, 1e-15, 1e-15, 0.999999999999999, 0.999999999999999]"
            ]
          },
          "metadata": {},
          "execution_count": 9
        }
      ]
    },
    {
      "cell_type": "code",
      "source": [
        "ypred_new=np.array(ypred_new)\n",
        "ypred_new"
      ],
      "metadata": {
        "colab": {
          "base_uri": "https://localhost:8080/"
        },
        "id": "s62QFDnLHUyJ",
        "outputId": "d5197161-f0d9-4254-b68a-af2463c4158c"
      },
      "execution_count": 10,
      "outputs": [
        {
          "output_type": "execute_result",
          "data": {
            "text/plain": [
              "array([1.e+00, 1.e-15, 1.e-15, 1.e+00, 1.e+00])"
            ]
          },
          "metadata": {},
          "execution_count": 10
        }
      ]
    },
    {
      "cell_type": "code",
      "source": [
        "np.log(ypred_new)"
      ],
      "metadata": {
        "colab": {
          "base_uri": "https://localhost:8080/"
        },
        "id": "pA2kliuHHffF",
        "outputId": "f1918bcb-d2a6-47ab-d149-a44904d82941"
      },
      "execution_count": 11,
      "outputs": [
        {
          "output_type": "execute_result",
          "data": {
            "text/plain": [
              "array([-9.99200722e-16, -3.45387764e+01, -3.45387764e+01, -9.99200722e-16,\n",
              "       -9.99200722e-16])"
            ]
          },
          "metadata": {},
          "execution_count": 11
        }
      ]
    },
    {
      "cell_type": "code",
      "source": [
        "-np.mean(ytrue*np.log(ypred_new)+(1-ytrue)*(1-np.log(ypred_new)))"
      ],
      "metadata": {
        "colab": {
          "base_uri": "https://localhost:8080/"
        },
        "id": "w5TI-9xpHsa2",
        "outputId": "3f6f3a0a-4aa4-4107-acc5-137c3cd07f3f"
      },
      "execution_count": 12,
      "outputs": [
        {
          "output_type": "execute_result",
          "data": {
            "text/plain": [
              "-0.49999999999999944"
            ]
          },
          "metadata": {},
          "execution_count": 12
        }
      ]
    },
    {
      "cell_type": "code",
      "source": [
        "def log_loss(ytrue,ypred):\n",
        "  ep=1e-15\n",
        "  ypred_new=[max(i,ep) for i in ypred]\n",
        "  ypred_new=[min(i,1-ep) for i in ypred_new]\n",
        "  ypred_new=np.array(ypred_new)\n",
        "  return -np.mean(ytrue*np.log(ypred_new)+(1-ytrue)*(1-np.log(ypred_new)))"
      ],
      "metadata": {
        "id": "qRs607ScIYdE"
      },
      "execution_count": 13,
      "outputs": []
    },
    {
      "cell_type": "code",
      "source": [
        "log_loss(ytrue,ypred)"
      ],
      "metadata": {
        "colab": {
          "base_uri": "https://localhost:8080/"
        },
        "id": "GnM4kavPI1t3",
        "outputId": "d3dae920-37d2-4d68-e05b-a6347e5251e6"
      },
      "execution_count": 14,
      "outputs": [
        {
          "output_type": "execute_result",
          "data": {
            "text/plain": [
              "-0.49999999999999944"
            ]
          },
          "metadata": {},
          "execution_count": 14
        }
      ]
    },
    {
      "cell_type": "markdown",
      "source": [
        "#assignment 2\n",
        "1.impliment mean square error using numpy\n",
        "\n",
        "2.without using numpy"
      ],
      "metadata": {
        "id": "_jlbckwzJ5ql"
      }
    },
    {
      "cell_type": "code",
      "source": [
        "def mean_square_error(ytrue,ypred):\n",
        "  err=0\n",
        "  for yt,yp in zip(ytrue,ypred):\n",
        "    err+=np.square(yt-yp)\n",
        "  print(\"square error:\",err)\n",
        "  mse=err/len(ytrue)\n",
        "  return mse\n",
        "\n",
        "ms=mean_square_error(ytrue,ypred)\n",
        "print('Mean square error is',ms)"
      ],
      "metadata": {
        "id": "HkJqrQ8XI9zU",
        "colab": {
          "base_uri": "https://localhost:8080/"
        },
        "outputId": "6a7dc0b6-6bdc-40b7-dfef-9aa25a0d1589"
      },
      "execution_count": 15,
      "outputs": [
        {
          "output_type": "stream",
          "name": "stdout",
          "text": [
            "square error: 1.83\n",
            "Mean square error is 0.366\n"
          ]
        }
      ]
    },
    {
      "cell_type": "code",
      "source": [
        "def mean_square_error(ytrue,ypred):\n",
        "  err=0\n",
        "  for yt,yp in zip(ytrue,ypred):\n",
        "    err+=(yt-yp)**2\n",
        "  print(\"square error:\",err)\n",
        "  mse=err/len(ytrue)\n",
        "  return mse\n",
        "\n",
        "ms=mean_square_error(ytrue,ypred)\n",
        "print('Mean square error is',ms)"
      ],
      "metadata": {
        "id": "M851UNisKAZn",
        "colab": {
          "base_uri": "https://localhost:8080/"
        },
        "outputId": "e90ccc3f-dd94-4a72-e82c-9e074d018d82"
      },
      "execution_count": 16,
      "outputs": [
        {
          "output_type": "stream",
          "name": "stdout",
          "text": [
            "square error: 1.83\n",
            "Mean square error is 0.366\n"
          ]
        }
      ]
    }
  ]
}